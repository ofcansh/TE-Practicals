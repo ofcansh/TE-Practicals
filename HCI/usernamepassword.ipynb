{
 "cells": [
  {
   "cell_type": "code",
   "execution_count": 84,
   "id": "04559ad6-f76a-45a0-8b6a-5d2c8f4fb7b9",
   "metadata": {},
   "outputs": [],
   "source": [
    "import tkinter as tk\n",
    "root = tk.Tk()\n",
    "\n",
    "#title\n",
    "root.title(\"Hello ansh!\")\n",
    "#resize\n",
    "root.geometry('350x300')\n",
    "#label\n",
    "l1 = tk.Label(root,text = \"Welcome\", fg = 'black', bg = 'white', font = ('C059', 14, \"bold\"))\n",
    "l1.place(x=125, y=20, width=100, height=30)\n",
    "#button1\n",
    "b1 = tk.Button(root, text=\"Username\", fg= 'black')\n",
    "b1.place(x=30, y=100, width=100)\n",
    "#button2\n",
    "b2 = tk.Button(root, text=\"Password\", fg= 'black')\n",
    "b2.place(x=30, y=150, width=100)\n",
    "#entry1\n",
    "t1 = tk.Entry(root, width=40)\n",
    "t1.place(x=150, y=100, width=100, height=30)\n",
    "#entry2\n",
    "t2 = tk.Entry(root, width=40)\n",
    "t2.place(x=150, y=150, width=100, height=30)\n",
    "root.mainloop()"
   ]
  },
  {
   "cell_type": "code",
   "execution_count": 90,
   "id": "771b9fc2-a122-450f-a1b0-7c25267c47ad",
   "metadata": {},
   "outputs": [],
   "source": [
    "import tkinter as tk\n",
    "\n",
    "root = tk.Tk()\n",
    "\n",
    "# Title\n",
    "root.title(\"Hello Ansh!\")\n",
    "# Resize\n",
    "root.geometry('350x300')\n",
    "\n",
    "# Welcome label\n",
    "l1 = tk.Label(root, text=\"Welcome\", fg='black', bg='white', font=('C059', 14, \"bold\"))\n",
    "l1.place(x=125, y=20, width=100, height=30)\n",
    "\n",
    "# Username label (formerly button)\n",
    "l2 = tk.Label(root, text=\"Username\", fg='black')\n",
    "l2.place(x=30, y=100, width=100)\n",
    "\n",
    "# Password label (formerly button)\n",
    "l3 = tk.Label(root, text=\"Password\", fg='black')\n",
    "l3.place(x=30, y=150, width=100)\n",
    "\n",
    "# Entry for username\n",
    "t1 = tk.Entry(root, width=40)\n",
    "t1.place(x=150, y=100, width=100, height=30)\n",
    "\n",
    "# Entry for password\n",
    "t2 = tk.Entry(root, width=40,show=\"*\")\n",
    "t2.place(x=150, y=150, width=100, height=30)\n",
    "\n",
    "root.mainloop()"
   ]
  },
  {
   "cell_type": "code",
   "execution_count": null,
   "id": "2af23c0f-77a1-41e8-bdb1-8034ca40ed3b",
   "metadata": {},
   "outputs": [],
   "source": []
  }
 ],
 "metadata": {
  "kernelspec": {
   "display_name": "Python 3 (ipykernel)",
   "language": "python",
   "name": "python3"
  },
  "language_info": {
   "codemirror_mode": {
    "name": "ipython",
    "version": 3
   },
   "file_extension": ".py",
   "mimetype": "text/x-python",
   "name": "python",
   "nbconvert_exporter": "python",
   "pygments_lexer": "ipython3",
   "version": "3.8.10"
  }
 },
 "nbformat": 4,
 "nbformat_minor": 5
}
