{
 "cells": [
  {
   "cell_type": "code",
   "execution_count": 89,
   "id": "c9424e2f",
   "metadata": {},
   "outputs": [
    {
     "name": "stdout",
     "output_type": "stream",
     "text": [
      "Hello World\n"
     ]
    }
   ],
   "source": [
    "print(\"Hello World\")"
   ]
  },
  {
   "cell_type": "code",
   "execution_count": 90,
   "id": "430774d6",
   "metadata": {},
   "outputs": [],
   "source": [
    "import numpy as np\n",
    "import pandas as pd"
   ]
  },
  {
   "cell_type": "code",
   "execution_count": 91,
   "id": "e2a5e87e",
   "metadata": {},
   "outputs": [
    {
     "name": "stdout",
     "output_type": "stream",
     "text": [
      "Sum of array: 55\n"
     ]
    }
   ],
   "source": [
    "array = np.array([1,2,3,4,5,6,7,8,9,10])\n",
    "arr_sum = np.sum(array)\n",
    "print(f\"Sum of array: {arr_sum}\")"
   ]
  },
  {
   "cell_type": "code",
   "execution_count": 92,
   "id": "adaa53c5",
   "metadata": {},
   "outputs": [
    {
     "name": "stdout",
     "output_type": "stream",
     "text": [
      "Numpy array: [1 2 3 4 5]\n",
      "Panda series: \n",
      "0    1\n",
      "1    2\n",
      "2    3\n",
      "3    4\n",
      "4    5\n",
      "dtype: int64\n"
     ]
    }
   ],
   "source": [
    "d = np.array([1,2,3,4,5])\n",
    "print(\"Numpy array:\", d)\n",
    "d1 = pd.Series(d)\n",
    "print(f\"Panda series: \\n{d1}\")"
   ]
  },
  {
   "cell_type": "code",
   "execution_count": 93,
   "id": "46975c9a",
   "metadata": {},
   "outputs": [
    {
     "name": "stdout",
     "output_type": "stream",
     "text": [
      "Panda series:\n",
      "0    1\n",
      "1    2\n",
      "2    3\n",
      "3    4\n",
      "4    5\n",
      "dtype: int64\n"
     ]
    }
   ],
   "source": [
    "l = [1,2,3,4,5]\n",
    "d = pd.Series(l)\n",
    "print(f\"Panda series:\\n{d}\")"
   ]
  },
  {
   "cell_type": "code",
   "execution_count": 94,
   "id": "ef4f7620",
   "metadata": {},
   "outputs": [
    {
     "name": "stdout",
     "output_type": "stream",
     "text": [
      "0    24\n",
      "1    16\n",
      "2    20\n",
      "3    18\n",
      "4    20\n",
      "Name: DM, dtype: object\n"
     ]
    }
   ],
   "source": [
    "dataset = pd.read_excel(\"./datasets/marks-dataset.xlsx\")\n",
    "dmSeries = pd.Series(dataset['DM'])\n",
    "print(dmSeries.head())"
   ]
  },
  {
   "cell_type": "code",
   "execution_count": 95,
   "id": "94f869c4",
   "metadata": {},
   "outputs": [
    {
     "name": "stdout",
     "output_type": "stream",
     "text": [
      "  Sr. no.  Roll No        Name of the Student  DM FDS OOP  CG DELD GENDER  \\\n",
      "0       1   SCOA01              ALISHA SHEIKH  24  27  20  15   16      M   \n",
      "1       2   SCOA02  SOHAM JAYYANNTH DESHMUKKH  16   9   9  AB   AB      F   \n",
      "2       3   SCOA03         SHELAR NEHA NILESH  20  23  16  15   15      M   \n",
      "3       4   SCOA04                RIYA JAWALE  18  14  11   8   15      F   \n",
      "4       5   SCOA05      NARHE VARSHA RAOSAHEB  20  24  16  24   20      M   \n",
      "5       6   SCOA06    BHUTDA MAHESH SHANTILAL  20   9  AB   0   AB      F   \n",
      "6       7   SCOA07       JAGTAP HARISH YUVRAJ  22  18   3  16    7      q   \n",
      "7       8   SCOA08  DESHPANDE SRUSHTI VINAYAK  24  20  19  16   23      F   \n",
      "8       9   SCOA09       DARWEY RUDRA GUNWANT  22  12   9  15    7      M   \n",
      "9      10   SCOA10         ERANDE TEJAS DIPAK  24  18  11  23   AB      F   \n",
      "\n",
      "   Unnamed: 9  ...  Unnamed: 14  Unnamed: 15  Unnamed: 16  Unnamed: 17  \\\n",
      "0         NaN  ...          NaN          NaN          NaN          NaN   \n",
      "1         NaN  ...          NaN          NaN          NaN          NaN   \n",
      "2         NaN  ...          NaN          NaN          NaN          NaN   \n",
      "3         NaN  ...          NaN          NaN          NaN          NaN   \n",
      "4         NaN  ...          NaN          NaN          NaN          NaN   \n",
      "5         NaN  ...          NaN          NaN          NaN          NaN   \n",
      "6         NaN  ...          NaN          NaN          NaN          NaN   \n",
      "7         NaN  ...          NaN          NaN          NaN          NaN   \n",
      "8         NaN  ...          NaN          NaN          NaN          NaN   \n",
      "9         NaN  ...          NaN          NaN          NaN          NaN   \n",
      "\n",
      "   Unnamed: 18  Unnamed: 19  Unnamed: 20  Unnamed: 21  Unnamed: 22  \\\n",
      "0          NaN          NaN          NaN          NaN          NaN   \n",
      "1          NaN          NaN          NaN          NaN          NaN   \n",
      "2          NaN          NaN          NaN          NaN          NaN   \n",
      "3          NaN          NaN          NaN          NaN          NaN   \n",
      "4          NaN          NaN          NaN          NaN          NaN   \n",
      "5          NaN          NaN          NaN          NaN          NaN   \n",
      "6          NaN          NaN          NaN          NaN          NaN   \n",
      "7          NaN          NaN          NaN          NaN          NaN   \n",
      "8          NaN          NaN          NaN          NaN          NaN   \n",
      "9          NaN          NaN          NaN          NaN          NaN   \n",
      "\n",
      "   Unnamed: 23  \n",
      "0          NaN  \n",
      "1          NaN  \n",
      "2          NaN  \n",
      "3          NaN  \n",
      "4          NaN  \n",
      "5          NaN  \n",
      "6          NaN  \n",
      "7          NaN  \n",
      "8          NaN  \n",
      "9          NaN  \n",
      "\n",
      "[10 rows x 24 columns]\n"
     ]
    }
   ],
   "source": [
    "dsDataframe = pd.DataFrame(dataset)\n",
    "print(dsDataframe.head(10))"
   ]
  },
  {
   "cell_type": "code",
   "execution_count": 96,
   "id": "f4571f38",
   "metadata": {},
   "outputs": [
    {
     "name": "stdout",
     "output_type": "stream",
     "text": [
      "          Sr. no.                    Roll No        Name of the Student  DM  \\\n",
      "0               1                     SCOA01              ALISHA SHEIKH  24   \n",
      "1               2                     SCOA02  SOHAM JAYYANNTH DESHMUKKH  16   \n",
      "2               3                     SCOA03         SHELAR NEHA NILESH  20   \n",
      "3               4                     SCOA04                RIYA JAWALE  18   \n",
      "4               5                     SCOA05      NARHE VARSHA RAOSAHEB  20   \n",
      "..            ...                        ...                        ...  ..   \n",
      "77  Maximum marks                          0                          0  24   \n",
      "78              0                          0                          0   0   \n",
      "79              0                          0                          0   0   \n",
      "80              0                          0                          0   0   \n",
      "81              0  Internal Exam Coordinator                          0   0   \n",
      "\n",
      "   FDS OOP   CG DELD GENDER  Unnamed: 9  ...  Unnamed: 14  Unnamed: 15  \\\n",
      "0   27  20   15   16      M         0.0  ...          0.0          0.0   \n",
      "1    9   9   AB   AB      F         0.0  ...          0.0          0.0   \n",
      "2   23  16   15   15      M         0.0  ...          0.0          0.0   \n",
      "3   14  11    8   15      F         0.0  ...          0.0          0.0   \n",
      "4   24  16   24   20      M         0.0  ...          0.0          0.0   \n",
      "..  ..  ..  ...  ...    ...         ...  ...          ...          ...   \n",
      "77  27  25   29   27      0         0.0  ...          0.0          0.0   \n",
      "78   0   0    0    0      0         0.0  ...          0.0          0.0   \n",
      "79   0   0    0    0      0         0.0  ...          0.0          0.0   \n",
      "80   0   0    0    0      0         0.0  ...          0.0          0.0   \n",
      "81   0   0  HOD    0      0         0.0  ...          0.0          0.0   \n",
      "\n",
      "    Unnamed: 16  Unnamed: 17  Unnamed: 18  Unnamed: 19  Unnamed: 20  \\\n",
      "0           0.0          0.0          0.0          0.0          0.0   \n",
      "1           0.0          0.0          0.0          0.0          0.0   \n",
      "2           0.0          0.0          0.0          0.0          0.0   \n",
      "3           0.0          0.0          0.0          0.0          0.0   \n",
      "4           0.0          0.0          0.0          0.0          0.0   \n",
      "..          ...          ...          ...          ...          ...   \n",
      "77          0.0          0.0          0.0          0.0          0.0   \n",
      "78          0.0          0.0          0.0          0.0          0.0   \n",
      "79          0.0          0.0          0.0          0.0          0.0   \n",
      "80          0.0          0.0          0.0          0.0          0.0   \n",
      "81          0.0          0.0          0.0          0.0          0.0   \n",
      "\n",
      "    Unnamed: 21  Unnamed: 22  Unnamed: 23  \n",
      "0           0.0          0.0            0  \n",
      "1           0.0          0.0            0  \n",
      "2           0.0          0.0            0  \n",
      "3           0.0          0.0            0  \n",
      "4           0.0          0.0            0  \n",
      "..          ...          ...          ...  \n",
      "77          0.0          0.0            0  \n",
      "78          0.0          0.0         321`  \n",
      "79          0.0          0.0            `  \n",
      "80          0.0          0.0            0  \n",
      "81          0.0          0.0            0  \n",
      "\n",
      "[82 rows x 24 columns]\n"
     ]
    }
   ],
   "source": [
    "d2 = dataset.replace(to_replace=np.nan, value=0)\n",
    "print(d2)"
   ]
  },
  {
   "cell_type": "code",
   "execution_count": 97,
   "id": "eba4e7e0",
   "metadata": {},
   "outputs": [
    {
     "name": "stdout",
     "output_type": "stream",
     "text": [
      "0     24\n",
      "1     16\n",
      "2      0\n",
      "3     18\n",
      "4      0\n",
      "5      0\n",
      "6     22\n",
      "7     24\n",
      "8     22\n",
      "9     24\n",
      "10    18\n",
      "11     0\n",
      "12    16\n",
      "13    16\n",
      "14    18\n",
      "15     0\n",
      "16    12\n",
      "17    24\n",
      "18    22\n",
      "19     0\n",
      "Name: DM, dtype: object\n"
     ]
    }
   ],
   "source": [
    "dm2 = dmSeries.replace(to_replace=20, value=0)\n",
    "print(dm2.head(20))"
   ]
  },
  {
   "cell_type": "code",
   "execution_count": 98,
   "id": "14f85d8b",
   "metadata": {},
   "outputs": [
    {
     "name": "stdout",
     "output_type": "stream",
     "text": [
      "0     0\n",
      "1     1\n",
      "2     0\n",
      "3     1\n",
      "4     0\n",
      "5     1\n",
      "6    -1\n",
      "7     1\n",
      "8     0\n",
      "9     1\n",
      "10    0\n",
      "11    1\n",
      "12    0\n",
      "13    1\n",
      "14    0\n",
      "15    1\n",
      "16    0\n",
      "17    1\n",
      "18    0\n",
      "19    1\n",
      "Name: GENDER, dtype: int64\n"
     ]
    }
   ],
   "source": [
    "g1 = dataset['GENDER'].map({'M': 0, 'F': 1}).fillna(-1).astype(int)\n",
    "print(g1.head(20))"
   ]
  },
  {
   "cell_type": "code",
   "execution_count": 109,
   "id": "b04e390e",
   "metadata": {},
   "outputs": [
    {
     "name": "stdout",
     "output_type": "stream",
     "text": [
      "0    -1\n",
      "1    -1\n",
      "2    -1\n",
      "3    -2\n",
      "4    -1\n",
      "     ..\n",
      "65   -1\n",
      "66   -1\n",
      "67   -1\n",
      "68   -1\n",
      "69   -1\n",
      "Name: DM, Length: 70, dtype: int64\n"
     ]
    }
   ],
   "source": [
    "dm6 = dmSeries.map({ 18: -2 }).fillna(-1).astype(int)\n",
    "dm6len = len(dmSeries)\n",
    "print(dm6.head(70))"
   ]
  }
 ],
 "metadata": {
  "kernelspec": {
   "display_name": "myenv",
   "language": "python",
   "name": "python3"
  },
  "language_info": {
   "codemirror_mode": {
    "name": "ipython",
    "version": 3
   },
   "file_extension": ".py",
   "mimetype": "text/x-python",
   "name": "python",
   "nbconvert_exporter": "python",
   "pygments_lexer": "ipython3",
   "version": "3.11.11"
  }
 },
 "nbformat": 4,
 "nbformat_minor": 5
}
